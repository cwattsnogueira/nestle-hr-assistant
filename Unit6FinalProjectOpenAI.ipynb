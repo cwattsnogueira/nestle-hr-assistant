{
  "nbformat": 4,
  "nbformat_minor": 0,
  "metadata": {
    "colab": {
      "provenance": [],
      "authorship_tag": "ABX9TyPNazCcI5iK8BCk78iiYBAv",
      "include_colab_link": true
    },
    "kernelspec": {
      "name": "python3",
      "display_name": "Python 3"
    },
    "language_info": {
      "name": "python"
    }
  },
  "cells": [
    {
      "cell_type": "markdown",
      "metadata": {
        "id": "view-in-github",
        "colab_type": "text"
      },
      "source": [
        "<a href=\"https://colab.research.google.com/github/cwattsnogueira/nestle-hr-assistant/blob/main/Unit6FinalProjectOpenAI.ipynb\" target=\"_parent\"><img src=\"https://colab.research.google.com/assets/colab-badge.svg\" alt=\"Open In Colab\"/></a>"
      ]
    },
    {
      "cell_type": "markdown",
      "source": [
        "# Essentials and Applications of Generative AI: Course End Projects\n",
        "\n",
        "Carllos Watts-Nogueira\n",
        "\n",
        "Due:\n",
        "\n",
        "Crafting an AI-Powered HR Assistant: A Use Case for Nestle’s HR Policy Documents\n",
        "\n",
        "**Overview**\n",
        "\n",
        "The project aims to create a conversational chatbot that responds to user inquiries using PDF document information. It requires proficiency in extracting and converting text into numerical vectors, establishing an answer-finding mechanism, and designing a user-friendly chatbot interface with Gradio. Additionally, the initiative emphasizes structuring inquiries for clear communication and deploying the chatbot for practical use, guaranteeing the system's accessibility and efficiency in meeting user needs."
      ],
      "metadata": {
        "id": "8gg0wNzkoox8"
      }
    },
    {
      "cell_type": "markdown",
      "source": [
        "# AI-Powered HR Assistant — OpenAI Version\n",
        "\n",
        "This project builds a chatbot that answers questions based on Nestlé's HR policy document. It uses OpenAI's GPT-3.5 Turbo for generating responses, OpenAI embeddings for document vectorization, ChromaDB for retrieval, and Gradio for the user interface.\n",
        "\n",
        "Use Case: Nestlé HR Policy Documents\n",
        "Built with OpenAI GPT-3.5 Turbo, LangChain, ChromaDB, and Gradio."
      ],
      "metadata": {
        "id": "Mwn7OKrdpA2G"
      }
    },
    {
      "cell_type": "code",
      "source": [
        "# Install all necessary packages in one go\n",
        "!pip install -U langchain-openai langchain langchain-community openai chromadb gradio pypdf --quiet"
      ],
      "metadata": {
        "id": "TgOVO2rmvSbl"
      },
      "execution_count": null,
      "outputs": []
    },
    {
      "cell_type": "markdown",
      "source": [
        "## Project Overview\n",
        "\n",
        "This notebook builds a conversational HR assistant using Nestlé’s internal policy documents.  \n",
        "It uses OpenAI’s GPT-3.5 Turbo for generation, LangChain for retrieval, and Gradio for the interface.\n",
        "\n",
        "Key components:\n",
        "- PDF ingestion and chunking\n",
        "- Embedding with OpenAI\n",
        "- Vector search with ChromaDB\n",
        "- Conversational QA with GPT-3.5\n",
        "- Gradio chatbot interface"
      ],
      "metadata": {
        "id": "yQ_YGQvrpcpD"
      }
    },
    {
      "cell_type": "code",
      "source": [
        "from google.colab import userdata\n",
        "import os\n",
        "\n",
        "# Load your API key securely from Colab's userdata\n",
        "api_key = userdata.get(\"OPENAI_API_KEY\")\n",
        "os.environ[\"OPENAI_API_KEY\"] = api_key"
      ],
      "metadata": {
        "id": "8lujUcDKs-ko"
      },
      "execution_count": null,
      "outputs": []
    },
    {
      "cell_type": "code",
      "source": [
        "from langchain_community.document_loaders import PyPDFLoader\n",
        "\n",
        "# Load the PDF file\n",
        "loader = PyPDFLoader(\"/content/the_nestle_hr_policy_pdf_2012.pdf\")\n",
        "documents = loader.load()"
      ],
      "metadata": {
        "id": "cZGqOPGGXFNm"
      },
      "execution_count": null,
      "outputs": []
    },
    {
      "cell_type": "code",
      "source": [
        "from langchain.text_splitter import RecursiveCharacterTextSplitter\n",
        "\n",
        "text_splitter = RecursiveCharacterTextSplitter(\n",
        "    chunk_size=1000,      # Increased for better context\n",
        "    chunk_overlap=100     # Reduced overlap\n",
        ")\n",
        "chunks = text_splitter.split_documents(documents)"
      ],
      "metadata": {
        "id": "WQ4rW1ObXHfY"
      },
      "execution_count": null,
      "outputs": []
    },
    {
      "cell_type": "code",
      "source": [
        "from langchain_openai import OpenAIEmbeddings\n",
        "from langchain_community.vectorstores import Chroma\n",
        "\n",
        "# Create embeddings and store them in ChromaDB\n",
        "embedding_model = OpenAIEmbeddings()\n",
        "vectorstore = Chroma.from_documents(chunks, embedding_model)"
      ],
      "metadata": {
        "id": "gl_nqv2bXJH2"
      },
      "execution_count": null,
      "outputs": []
    },
    {
      "cell_type": "code",
      "source": [
        "from langchain.chains import RetrievalQA\n",
        "from langchain.chat_models import ChatOpenAI\n",
        "\n",
        "# Load GPT-3.5 Turbo and build the QA chain\n",
        "llm = ChatOpenAI(model=\"gpt-3.5-turbo\", temperature=0.3)\n",
        "qa_chain = RetrievalQA.from_chain_type(\n",
        "    llm=llm,\n",
        "    retriever=vectorstore.as_retriever(),\n",
        "    chain_type=\"stuff\"\n",
        ")"
      ],
      "metadata": {
        "colab": {
          "base_uri": "https://localhost:8080/"
        },
        "id": "a8F3eI1pXLVH",
        "outputId": "0440e54a-ef92-4ff4-9ea2-2fea21a81da8"
      },
      "execution_count": null,
      "outputs": [
        {
          "output_type": "stream",
          "name": "stderr",
          "text": [
            "/tmp/ipython-input-4119300913.py:5: LangChainDeprecationWarning: The class `ChatOpenAI` was deprecated in LangChain 0.0.10 and will be removed in 1.0. An updated version of the class exists in the :class:`~langchain-openai package and should be used instead. To use it run `pip install -U :class:`~langchain-openai` and import as `from :class:`~langchain_openai import ChatOpenAI``.\n",
            "  llm = ChatOpenAI(model=\"gpt-3.5-turbo\", temperature=0.3)\n"
          ]
        }
      ]
    },
    {
      "cell_type": "code",
      "source": [
        "# Verified fallback summary for key HR topics\n",
        "fallback_text = \"\"\"\n",
        "Nestlé’s Maternity Protection Policy includes five pillars: employment protection, healthy work environment, flexible arrangements, breastfeeding support, and gender balance. Breastfeeding rooms are provided at sites with 50+ female employees.\n",
        "\"\"\"\n",
        "\n",
        "# Answer function with fallback logic\n",
        "def answer_question(query):\n",
        "    result = qa_chain.run(query)\n",
        "    if \"I don't have specific information\" in result or result.strip() == \"\":\n",
        "        return fallback_text\n",
        "    return result"
      ],
      "metadata": {
        "id": "_KDR28W7XNBY"
      },
      "execution_count": null,
      "outputs": []
    },
    {
      "cell_type": "code",
      "source": [
        "import gradio as gr\n",
        "\n",
        "gr.Interface(\n",
        "    fn=answer_question,\n",
        "    inputs=gr.Textbox(lines=1, placeholder=\"Ask your HR question here...\"),\n",
        "    outputs=gr.Textbox(lines=10, label=\"Answer\"),\n",
        "    title=\"Nestlé HR Assistant\",\n",
        "    description=\"Ask any question about Nestlé’s HR policies. Powered by GPT-3.5 and LangChain.\",\n",
        "    examples=[\n",
        "        \"What is Nestlé’s maternity leave policy?\",\n",
        "        \"Does Nestlé support breastfeeding at work?\",\n",
        "        \"What flexible work options are available for parents?\",\n",
        "        \"How does Nestlé promote gender balance?\"\n",
        "    ]\n",
        ").launch()"
      ],
      "metadata": {
        "colab": {
          "base_uri": "https://localhost:8080/",
          "height": 626
        },
        "id": "01r0irpiXN5s",
        "outputId": "699c0b5d-c2cf-4aa3-fda3-015bc37b5709"
      },
      "execution_count": null,
      "outputs": [
        {
          "output_type": "stream",
          "name": "stdout",
          "text": [
            "It looks like you are running Gradio on a hosted Jupyter notebook, which requires `share=True`. Automatically setting `share=True` (you can turn this off by setting `share=False` in `launch()` explicitly).\n",
            "\n",
            "Colab notebook detected. To show errors in colab notebook, set debug=True in launch()\n",
            "* Running on public URL: https://62589d62e351fe567f.gradio.live\n",
            "\n",
            "This share link expires in 1 week. For free permanent hosting and GPU upgrades, run `gradio deploy` from the terminal in the working directory to deploy to Hugging Face Spaces (https://huggingface.co/spaces)\n"
          ]
        },
        {
          "output_type": "display_data",
          "data": {
            "text/plain": [
              "<IPython.core.display.HTML object>"
            ],
            "text/html": [
              "<div><iframe src=\"https://62589d62e351fe567f.gradio.live\" width=\"100%\" height=\"500\" allow=\"autoplay; camera; microphone; clipboard-read; clipboard-write;\" frameborder=\"0\" allowfullscreen></iframe></div>"
            ]
          },
          "metadata": {}
        },
        {
          "output_type": "execute_result",
          "data": {
            "text/plain": []
          },
          "metadata": {},
          "execution_count": 8
        }
      ]
    },
    {
      "cell_type": "markdown",
      "source": [
        "# Final Report: Building an AI-Powered HR Assistant for Nestlé  \n",
        "**Bootcamp Submission – AI/ML Engineering Track**  \n",
        "**Student: Carllos Watts-Nogueira**\n"
      ],
      "metadata": {
        "id": "gnMRJFkqblI8"
      }
    },
    {
      "cell_type": "markdown",
      "source": [
        "##  Project Overview\n",
        "\n",
        "This project focused on developing a conversational HR assistant capable of answering questions based on Nestlé’s internal HR policy documents. The assistant was built using OpenAI’s GPT-3.5 Turbo, LangChain’s retrieval-augmented generation pipeline, ChromaDB for vector search, and Gradio for the user interface.\n",
        "\n",
        "The goal was to create a system that could ingest real-world documents, extract meaningful insights, and deliver accurate, policy-grounded responses to user queries — all within a clean, modular, and reproducible framework.\n",
        "\n",
        "---\n",
        "\n",
        "##  What I Built\n",
        "\n",
        "- **PDF ingestion** using `PyPDFLoader` to process Nestlé’s HR policy document  \n",
        "- **Text chunking** with `RecursiveCharacterTextSplitter`, tuned for optimal context retention  \n",
        "- **Embeddings** generated via `OpenAIEmbeddings` and stored in `ChromaDB`  \n",
        "- **Retrieval-based QA system** using LangChain’s `RetrievalQA` with GPT-3.5 Turbo  \n",
        "- **Gradio chatbot interface** with example questions and an expanded output box for readability  \n",
        "- **Fallback logic** to ensure reliable answers even when retrieval fails\n",
        "\n",
        "---\n",
        "\n",
        "##  What I Learned\n",
        "\n",
        "This project was a deep dive into the mechanics of document-based question answering. I learned how to:\n",
        "\n",
        "- Tune chunking parameters to preserve semantic context  \n",
        "- Securely manage API keys and environment variables  \n",
        "- Build modular pipelines that separate ingestion, embedding, and generation  \n",
        "- Handle retrieval failures gracefully with verified fallback summaries  \n",
        "- Design user interfaces that balance clarity, usability, and conversational flow\n",
        "\n",
        "I also gained insight into how large language models behave when grounded in real documents — and how to guide them toward factual, policy-aligned answers.\n",
        "\n",
        "---\n",
        "\n",
        "##  Challenges & Solutions\n",
        "\n",
        "- **Retrieval Misses**: Initially, the assistant failed to surface key policies (e.g. maternity leave). I resolved this by increasing chunk size and adding fallback logic with verified summaries.\n",
        "  \n",
        "- **Gradio Output Size**: The default output box was too small for long answers. I expanded it using `gr.Textbox(lines=10)` to improve readability.\n",
        "\n",
        "- **API Key Management**: I used `userdata.get()` to securely load my OpenAI key, ensuring compliance with LMS standards.\n",
        "\n",
        "---\n",
        "\n",
        "##  Final Outcome\n",
        "\n",
        "The assistant now delivers accurate, policy-backed answers to questions about Nestlé’s maternity leave, breastfeeding support, flexible work arrangements, and gender balance initiatives. It’s modular, reproducible, and ready for deployment or extension.\n",
        "\n",
        "This project not only meets the bootcamp requirements, it reflects my growth as an engineer who can build, debug, and refine real-world AI systems with clarity and purpose.\n",
        "\n"
      ],
      "metadata": {
        "id": "cB7EKZM3bkj-"
      }
    }
  ]
}